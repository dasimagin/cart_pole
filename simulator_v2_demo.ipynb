{
 "cells": [
  {
   "cell_type": "code",
   "execution_count": null,
   "metadata": {},
   "outputs": [],
   "source": [
    "from simulator_v2.cartpole_torch.config import SystemConfiguration\n",
    "from simulator_v2.cartpole_torch.system import CartPoleSystem\n",
    "from simulator_v2.cartpole_torch.state import State\n",
    "\n",
    "import numpy as np\n",
    "import numpy.typing as npt\n",
    "import pandas as pd\n",
    "import seaborn as sns\n",
    "import matplotlib.pyplot as plt"
   ]
  },
  {
   "attachments": {},
   "cell_type": "markdown",
   "metadata": {},
   "source": [
    "## About the simulation"
   ]
  },
  {
   "attachments": {},
   "cell_type": "markdown",
   "metadata": {},
   "source": [
    "Our simulation's state is represented via 4 numbers:\n",
    "- $x$ - cart position on the rail (default value is 0).\n",
    "- $\\theta$ - pole angle in radians. The default value is 0, when the pole is hanging down. Always belongs to $[0, 2\\pi)$\n",
    "- $\\dot{x}$ - cart velocity (can be negative, if moving left).\n",
    "- $\\dot{\\theta}$ - pole angular velocity (in radians, positive if moving counterclockwise)."
   ]
  },
  {
   "attachments": {},
   "cell_type": "markdown",
   "metadata": {},
   "source": [
    "## Pendulum (simple case)\n",
    "\n",
    "Let us consider a system with no input first.\n",
    "In other words, just a simple pendulum."
   ]
  },
  {
   "cell_type": "code",
   "execution_count": null,
   "metadata": {},
   "outputs": [],
   "source": [
    "system = CartPoleSystem()\n",
    "system.reset_to_state(\n",
    "    config=SystemConfiguration(),\n",
    "    state=State(\n",
    "        cart_position=0,\n",
    "        pole_angle=1.23,\n",
    "        cart_velocity=0,\n",
    "        angular_velocity=0,\n",
    "    ),\n",
    ")\n",
    "system.set_target(0.0)"
   ]
  },
  {
   "cell_type": "code",
   "execution_count": null,
   "metadata": {},
   "outputs": [],
   "source": [
    "%timeit\n",
    "SECONDS_TO_SIMULATE = 5\n",
    "INPUT_DELTA = 0.03\n",
    "\n",
    "SIM_STEPS = int(SECONDS_TO_SIMULATE / INPUT_DELTA)\n",
    "\n",
    "history = np.empty(shape=(SIM_STEPS, 6))\n",
    "\n",
    "\n",
    "for i in range(SIM_STEPS):\n",
    "    state = system.get_state().as_tensor()\n",
    "\n",
    "    history[i, 0] = system.timestamp()\n",
    "    history[i, 1:5] = state\n",
    "    history[i, 5] = 0.0\n",
    "\n",
    "    system.advance(delta=INPUT_DELTA)"
   ]
  },
  {
   "attachments": {},
   "cell_type": "markdown",
   "metadata": {},
   "source": [
    "At this point, we have simulated 5 seconds of pendulum swinging.\n",
    "Let us use Pandas DataFrames to explore the data we got from the simulation."
   ]
  },
  {
   "cell_type": "code",
   "execution_count": null,
   "metadata": {},
   "outputs": [],
   "source": [
    "def history_to_pandas(history: npt.NDArray) -> pd.DataFrame:\n",
    "    \"\"\"\n",
    "    Converts history array to pandas DataFrame\n",
    "\n",
    "    Args:\n",
    "        history (npt.NDArray): Nx6 array of floats\n",
    "\n",
    "    Returns:\n",
    "        pd.DataFrame: Same array but dataframe\n",
    "    \"\"\"\n",
    "    COLUMNS = [\n",
    "        \"timestamp\",\n",
    "        \"cart_position\",\n",
    "        \"pole_angle\",\n",
    "        \"cart_velocity\",\n",
    "        \"angular_velocity\",\n",
    "        \"acceleration\",\n",
    "    ]\n",
    "    return pd.DataFrame(\n",
    "        {column_name: history[:, ind] for ind, column_name in enumerate(COLUMNS)}\n",
    "    )"
   ]
  },
  {
   "attachments": {},
   "cell_type": "markdown",
   "metadata": {},
   "source": [
    "And let us also define a function to calculate energies of our system for each point of time"
   ]
  },
  {
   "cell_type": "code",
   "execution_count": null,
   "metadata": {},
   "outputs": [],
   "source": [
    "def add_energies(history: pd.DataFrame) -> pd.DataFrame:\n",
    "    \"\"\"\n",
    "    Calculates energies and returns a copy of dataframe with 4 extra columns:\n",
    "    - cart kinetic energy\n",
    "    - pole kinetic energy\n",
    "    - pole potential energy\n",
    "    - total energy\n",
    "\n",
    "    Args:\n",
    "        history (pd.DataFrame)\n",
    "\n",
    "    Returns:\n",
    "        pd.DataFrame\n",
    "    \"\"\"\n",
    "    cart_mass = system._config.parameters.cart_mass or 0.2\n",
    "    cart_mass = 0.2\n",
    "    pole_mass = system._config.parameters.pole_mass\n",
    "    pole_len = system._config.parameters.pole_length\n",
    "    grav = system._config.parameters.gravity\n",
    "\n",
    "    v = history[\"cart_velocity\"]\n",
    "    ang = history[\"pole_angle\"]\n",
    "    thetadot = history[\"angular_velocity\"]\n",
    "\n",
    "    kin_cart = cart_mass * (v**2) / 2  # type: ignore\n",
    "    pot_pole = pole_mass * grav * pole_len / 2 * (1 - np.cos(ang))\n",
    "\n",
    "    kin_pole = (pole_mass / 2) * (\n",
    "        v**2\n",
    "        + ((pole_len**2) * (thetadot**2)) / 3\n",
    "        + (pole_len * v * thetadot * np.cos(ang))\n",
    "    )\n",
    "\n",
    "    energies = {\n",
    "        \"kinetic_cart\": kin_cart,\n",
    "        \"kinetic_pole\": kin_pole,\n",
    "        \"potential_pole\": pot_pole,\n",
    "        \"total_energy\": kin_cart + kin_pole + pot_pole,\n",
    "    }\n",
    "\n",
    "    return history.assign(**energies)"
   ]
  },
  {
   "cell_type": "code",
   "execution_count": null,
   "metadata": {},
   "outputs": [],
   "source": [
    "history = history_to_pandas(history)\n",
    "history = add_energies(history)\n",
    "history.head()"
   ]
  },
  {
   "attachments": {},
   "cell_type": "markdown",
   "metadata": {},
   "source": [
    "Now lets plot some graphs"
   ]
  },
  {
   "cell_type": "code",
   "execution_count": null,
   "metadata": {},
   "outputs": [],
   "source": [
    "from math import ceil\n",
    "\n",
    "\n",
    "PLOT_COLUMNS = [\n",
    "    \"pole_angle\",\n",
    "    \"angular_velocity\",\n",
    "    \"kinetic_pole\",\n",
    "    \"potential_pole\",\n",
    "    \"total_energy\",\n",
    "]\n",
    "\n",
    "nrows = round(np.sqrt(len(PLOT_COLUMNS)))\n",
    "ncols = ceil(len(PLOT_COLUMNS) / nrows)\n",
    "\n",
    "\n",
    "fig, ax = plt.subplots(\n",
    "    nrows=nrows,\n",
    "    ncols=ncols,\n",
    "    figsize=(8 * ncols, 8 * nrows),\n",
    ")\n",
    "\n",
    "\n",
    "for i, column in enumerate(PLOT_COLUMNS):\n",
    "    cur_ax = ax[i // ncols][i % ncols]\n",
    "    sns.lineplot(\n",
    "        data=history,\n",
    "        x=\"timestamp\",\n",
    "        y=column,\n",
    "        ax=cur_ax,\n",
    "    )\n",
    "\n",
    "\n",
    "sns.lineplot(\n",
    "    data=history,\n",
    "    x=\"timestamp\",\n",
    "    y=np.round(history[\"total_energy\"], 5),\n",
    "    ax=ax[1, 2],\n",
    "    label=\"total energy (rounded to 5th digit)\",\n",
    ")"
   ]
  },
  {
   "attachments": {},
   "cell_type": "markdown",
   "metadata": {},
   "source": [
    "On the second graph from the second row one migth see that `total_energy` seems to be increasing over time.\n",
    "Please, note the scale of the graph - the difference is not that dramatic.\n",
    "We included the last graph to show that: it contains `total_energy`, but rounded to 5-th digit after the dot.\n",
    "One might see that the total energy is indeed constant."
   ]
  },
  {
   "attachments": {},
   "cell_type": "markdown",
   "metadata": {},
   "source": [
    "## CartPole (more complex case)"
   ]
  },
  {
   "attachments": {},
   "cell_type": "markdown",
   "metadata": {},
   "source": [
    "This time we will make use of controlling the system.\n",
    "To be precise, we will introduce cart acceleration."
   ]
  },
  {
   "cell_type": "code",
   "execution_count": null,
   "metadata": {},
   "outputs": [],
   "source": [
    "system = CartPoleSystem()\n",
    "system.reset_to_state(\n",
    "    config=SystemConfiguration(),\n",
    "    state=State.home(),\n",
    ")"
   ]
  },
  {
   "cell_type": "code",
   "execution_count": null,
   "metadata": {},
   "outputs": [],
   "source": [
    "%timeit\n",
    "SECONDS_TO_SIMULATE = 15\n",
    "INPUT_DELTA = 0.03\n",
    "\n",
    "SIM_STEPS = int(SECONDS_TO_SIMULATE / INPUT_DELTA)\n",
    "\n",
    "history = np.empty(shape=(SIM_STEPS, 6))\n",
    "\n",
    "for i in range(SIM_STEPS):\n",
    "    # This time we calculate the acceleration of the cart using some weird formula\n",
    "    k = int((i % 100) < 50)\n",
    "    acc = (-1)**k * i / SIM_STEPS\n",
    "    system.set_target(acc)\n",
    "\n",
    "    state = system.get_state().as_tensor()\n",
    "\n",
    "    history[i, 0] = system.timestamp()\n",
    "    history[i, 1:5] = state\n",
    "    history[i, 5] = acc\n",
    "\n",
    "    system.advance(delta=INPUT_DELTA)"
   ]
  },
  {
   "cell_type": "code",
   "execution_count": null,
   "metadata": {},
   "outputs": [],
   "source": [
    "history = history_to_pandas(history)\n",
    "history = add_energies(history)\n",
    "history.head()"
   ]
  },
  {
   "cell_type": "code",
   "execution_count": null,
   "metadata": {},
   "outputs": [],
   "source": [
    "PLOT_COLUMNS = [\n",
    "    \"cart_position\",\n",
    "    \"pole_angle\",\n",
    "    \"cart_velocity\",\n",
    "    \"angular_velocity\",\n",
    "    \"kinetic_cart\",\n",
    "    \"kinetic_pole\",\n",
    "    \"potential_pole\",\n",
    "    \"total_energy\",\n",
    "]\n",
    "\n",
    "nrows = round(np.sqrt(len(PLOT_COLUMNS)))\n",
    "ncols = ceil(len(PLOT_COLUMNS) / nrows)\n",
    "\n",
    "fig, ax = plt.subplots(\n",
    "    nrows=nrows,\n",
    "    ncols=ncols,\n",
    "    figsize=(8 * ncols, 8 * nrows),\n",
    ")\n",
    "\n",
    "for i, column in enumerate(PLOT_COLUMNS):\n",
    "    cur_ax = ax[i // ncols][i % ncols]\n",
    "    sns.lineplot(\n",
    "        data=history,\n",
    "        x=\"timestamp\",\n",
    "        y=column,\n",
    "        ax=cur_ax,\n",
    "        label=column,\n",
    "    )\n",
    "    sns.lineplot(\n",
    "        data=history,\n",
    "        x=\"timestamp\",\n",
    "        y=\"acceleration\",\n",
    "        ax=cur_ax,\n",
    "        label=\"acceleration\",\n",
    "    )\n",
    "\n",
    "angles_fix_mask = history[\"pole_angle\"] > 5.5\n",
    "fixed_angles = history[\"pole_angle\"].copy(True)\n",
    "fixed_angles[angles_fix_mask] -= 2 * np.pi\n",
    "sns.lineplot(\n",
    "    data=history,\n",
    "    x=\"timestamp\",\n",
    "    y=fixed_angles,\n",
    "    ax=ax[2][2],\n",
    ")\n",
    "sns.lineplot(\n",
    "    data=history,\n",
    "    x=\"timestamp\",\n",
    "    y=\"acceleration\",\n",
    "    ax=ax[2][2],\n",
    "    label=\"acceleration\",\n",
    ")"
   ]
  },
  {
   "cell_type": "code",
   "execution_count": null,
   "metadata": {},
   "outputs": [],
   "source": [
    "g = sns.lineplot(\n",
    "    data=history,\n",
    "    x=\"timestamp\",\n",
    "    y=np.abs(fixed_angles),\n",
    "    label=\"angle (radians)\",\n",
    ")\n",
    "g.set_ylabel(\"\")\n",
    "sns.lineplot(\n",
    "    data=history,\n",
    "    x=\"timestamp\",\n",
    "    y=history[\"potential_pole\"] * 10,\n",
    "    label=\"potential energy (scaled)\",\n",
    ")\n",
    "g.set_ylabel(\"\");"
   ]
  },
  {
   "cell_type": "code",
   "execution_count": null,
   "metadata": {},
   "outputs": [],
   "source": []
  }
 ],
 "metadata": {
  "kernelspec": {
   "display_name": "Python 3.10.8 64-bit",
   "language": "python",
   "name": "python3"
  },
  "language_info": {
   "codemirror_mode": {
    "name": "ipython",
    "version": 3
   },
   "file_extension": ".py",
   "mimetype": "text/x-python",
   "name": "python",
   "nbconvert_exporter": "python",
   "pygments_lexer": "ipython3",
   "version": "3.10.8"
  },
  "orig_nbformat": 4,
  "vscode": {
   "interpreter": {
    "hash": "e7370f93d1d0cde622a1f8e1c04877d8463912d04d973331ad4851f04de6915a"
   }
  }
 },
 "nbformat": 4,
 "nbformat_minor": 2
}
