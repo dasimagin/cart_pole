{
 "cells": [
  {
   "cell_type": "code",
   "execution_count": 1,
   "id": "874ed3f1",
   "metadata": {},
   "outputs": [
    {
     "name": "stdout",
     "output_type": "stream",
     "text": [
      "CWD: C:\\Users\\AndBondStyle\\Projects\\lab-cartpole\n"
     ]
    }
   ],
   "source": [
    "# Find project root\n",
    "import subprocess, os\n",
    "cmd = 'git rev-parse --show-toplevel'\n",
    "root = subprocess.check_output(cmd, shell=True, text=True)\n",
    "os.chdir(root.strip())\n",
    "print('CWD:', os.getcwd())"
   ]
  },
  {
   "cell_type": "code",
   "execution_count": 2,
   "id": "d0771bf7",
   "metadata": {},
   "outputs": [],
   "source": [
    "from sessions.collector import SessionData\n",
    "from misc.simple_server import session_widget\n",
    "from pathlib import Path\n",
    "import json\n",
    "\n",
    "PATH = Path('data/sessions/v1_with_debug')\n",
    "DATA = SessionData.load(PATH / 'session.json')"
   ]
  },
  {
   "cell_type": "code",
   "execution_count": 3,
   "id": "c51bbb75",
   "metadata": {},
   "outputs": [
    {
     "name": "stdout",
     "output_type": "stream",
     "text": [
      "IFrame URL: http://localhost:58318/?id=_\n"
     ]
    },
    {
     "data": {
      "text/html": [
       "\n",
       "        <iframe\n",
       "            width=\"\"\n",
       "            height=\"1000\"\n",
       "            src=\"http://localhost:58318/?id=_\"\n",
       "            frameborder=\"0\"\n",
       "            allowfullscreen\n",
       "            style=\"width: 100%\"\n",
       "        ></iframe>\n",
       "        "
      ],
      "text/plain": [
       "<IPython.lib.display.IFrame at 0x270ac5740a0>"
      ]
     },
     "execution_count": 3,
     "metadata": {},
     "output_type": "execute_result"
    }
   ],
   "source": [
    "DATA.groups = [\n",
    "    SessionData.Group(name='Position', values=['state.position']),\n",
    "    SessionData.Group(name='Velocity', values=['state.velocity']),\n",
    "    SessionData.Group(name='Acceleration', values=['state.acceleration', 'target.acceleration']),\n",
    "]\n",
    "session_widget(DATA)"
   ]
  }
 ],
 "metadata": {
  "kernelspec": {
   "display_name": "Python 3 (ipykernel)",
   "language": "python",
   "name": "python3"
  },
  "language_info": {
   "codemirror_mode": {
    "name": "ipython",
    "version": 3
   },
   "file_extension": ".py",
   "mimetype": "text/x-python",
   "name": "python",
   "nbconvert_exporter": "python",
   "pygments_lexer": "ipython3",
   "version": "3.8.10"
  }
 },
 "nbformat": 4,
 "nbformat_minor": 5
}
