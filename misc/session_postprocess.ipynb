{
 "cells": [
  {
   "cell_type": "code",
   "execution_count": 1,
   "id": "874ed3f1",
   "metadata": {},
   "outputs": [
    {
     "name": "stdout",
     "output_type": "stream",
     "text": [
      "CWD: C:\\Users\\AndBondStyle\\Projects\\lab-cartpole\n"
     ]
    }
   ],
   "source": [
    "# Find project root\n",
    "import subprocess, os\n",
    "cmd = 'git rev-parse --show-toplevel'\n",
    "root = subprocess.check_output(cmd, shell=True, text=True)\n",
    "os.chdir(root.strip())\n",
    "print('CWD:', os.getcwd())"
   ]
  },
  {
   "cell_type": "code",
   "execution_count": 2,
   "id": "d0771bf7",
   "metadata": {},
   "outputs": [],
   "source": [
    "from sessions.collector import SessionData\n",
    "from misc.simple_server import session_widget\n",
    "from pathlib import Path\n",
    "import pandas\n",
    "import struct\n",
    "import json\n",
    "import math\n",
    "\n",
    "PATH = Path('data/sessions/pb_const_v5')\n",
    "DATA = SessionData.load(PATH / 'session.json')"
   ]
  },
  {
   "cell_type": "code",
   "execution_count": 3,
   "id": "bcd7acfb",
   "metadata": {},
   "outputs": [
    {
     "data": {
      "text/plain": [
       "{'state.position': SessionData.Value(id='state.position', name='state.position', unit='?'),\n",
       " 'state.velocity': SessionData.Value(id='state.velocity', name='state.velocity', unit='?'),\n",
       " 'state.acceleration': SessionData.Value(id='state.acceleration', name='state.acceleration', unit='?'),\n",
       " 'state.pole_angle': SessionData.Value(id='state.pole_angle', name='state.pole_angle', unit='?'),\n",
       " 'state.pole_angular_velocity': SessionData.Value(id='state.pole_angular_velocity', name='state.pole_angular_velocity', unit='?'),\n",
       " 'state.error_code': SessionData.Value(id='state.error_code', name='state.error_code', unit='?'),\n",
       " 'state.accelerometer_value': SessionData.Value(id='state.accelerometer_value', name='state.accelerometer_value', unit='?'),\n",
       " 'state.motor_angle': SessionData.Value(id='state.motor_angle', name='state.motor_angle', unit='?'),\n",
       " 'state.motor_velocity': SessionData.Value(id='state.motor_velocity', name='state.motor_velocity', unit='?'),\n",
       " 'target.acceleration': SessionData.Value(id='target.acceleration', name='target.acceleration', unit='?')}"
      ]
     },
     "execution_count": 3,
     "metadata": {},
     "output_type": "execute_result"
    }
   ],
   "source": [
    "DATA.values"
   ]
  },
  {
   "cell_type": "code",
   "execution_count": 4,
   "id": "068ef98d",
   "metadata": {},
   "outputs": [
    {
     "ename": "FileNotFoundError",
     "evalue": "[Errno 2] No such file or directory: 'data\\\\sessions\\\\pb_const_v5\\\\2_async_serial.csv'",
     "output_type": "error",
     "traceback": [
      "\u001b[1;31m---------------------------------------------------------------------------\u001b[0m",
      "\u001b[1;31mFileNotFoundError\u001b[0m                         Traceback (most recent call last)",
      "\u001b[1;32mC:\\Users\\ANDBON~1\\AppData\\Local\\Temp/ipykernel_25640/2117368303.py\u001b[0m in \u001b[0;36m<module>\u001b[1;34m\u001b[0m\n\u001b[1;32m----> 1\u001b[1;33m serial_tx_data = pandas.read_csv(\n\u001b[0m\u001b[0;32m      2\u001b[0m     \u001b[0mPATH\u001b[0m \u001b[1;33m/\u001b[0m \u001b[1;34m'2_async_serial.csv'\u001b[0m\u001b[1;33m,\u001b[0m\u001b[1;33m\u001b[0m\u001b[1;33m\u001b[0m\u001b[0m\n\u001b[0;32m      3\u001b[0m     \u001b[0mheader\u001b[0m\u001b[1;33m=\u001b[0m\u001b[1;36m0\u001b[0m\u001b[1;33m,\u001b[0m\u001b[1;33m\u001b[0m\u001b[1;33m\u001b[0m\u001b[0m\n\u001b[0;32m      4\u001b[0m     \u001b[0mnames\u001b[0m\u001b[1;33m=\u001b[0m\u001b[1;33m[\u001b[0m\u001b[1;34m'time'\u001b[0m\u001b[1;33m,\u001b[0m \u001b[1;34m'value'\u001b[0m\u001b[1;33m,\u001b[0m \u001b[1;34m'parity_err'\u001b[0m\u001b[1;33m,\u001b[0m \u001b[1;34m'framing_err'\u001b[0m\u001b[1;33m]\u001b[0m\u001b[1;33m,\u001b[0m\u001b[1;33m\u001b[0m\u001b[1;33m\u001b[0m\u001b[0m\n\u001b[0;32m      5\u001b[0m )\n",
      "\u001b[1;32mc:\\users\\andbondstyle\\.virtualenvs\\.venv\\lab-cartpole\\lib\\site-packages\\pandas\\util\\_decorators.py\u001b[0m in \u001b[0;36mwrapper\u001b[1;34m(*args, **kwargs)\u001b[0m\n\u001b[0;32m    309\u001b[0m                     \u001b[0mstacklevel\u001b[0m\u001b[1;33m=\u001b[0m\u001b[0mstacklevel\u001b[0m\u001b[1;33m,\u001b[0m\u001b[1;33m\u001b[0m\u001b[1;33m\u001b[0m\u001b[0m\n\u001b[0;32m    310\u001b[0m                 )\n\u001b[1;32m--> 311\u001b[1;33m             \u001b[1;32mreturn\u001b[0m \u001b[0mfunc\u001b[0m\u001b[1;33m(\u001b[0m\u001b[1;33m*\u001b[0m\u001b[0margs\u001b[0m\u001b[1;33m,\u001b[0m \u001b[1;33m**\u001b[0m\u001b[0mkwargs\u001b[0m\u001b[1;33m)\u001b[0m\u001b[1;33m\u001b[0m\u001b[1;33m\u001b[0m\u001b[0m\n\u001b[0m\u001b[0;32m    312\u001b[0m \u001b[1;33m\u001b[0m\u001b[0m\n\u001b[0;32m    313\u001b[0m         \u001b[1;32mreturn\u001b[0m \u001b[0mwrapper\u001b[0m\u001b[1;33m\u001b[0m\u001b[1;33m\u001b[0m\u001b[0m\n",
      "\u001b[1;32mc:\\users\\andbondstyle\\.virtualenvs\\.venv\\lab-cartpole\\lib\\site-packages\\pandas\\io\\parsers\\readers.py\u001b[0m in \u001b[0;36mread_csv\u001b[1;34m(filepath_or_buffer, sep, delimiter, header, names, index_col, usecols, squeeze, prefix, mangle_dupe_cols, dtype, engine, converters, true_values, false_values, skipinitialspace, skiprows, skipfooter, nrows, na_values, keep_default_na, na_filter, verbose, skip_blank_lines, parse_dates, infer_datetime_format, keep_date_col, date_parser, dayfirst, cache_dates, iterator, chunksize, compression, thousands, decimal, lineterminator, quotechar, quoting, doublequote, escapechar, comment, encoding, encoding_errors, dialect, error_bad_lines, warn_bad_lines, on_bad_lines, delim_whitespace, low_memory, memory_map, float_precision, storage_options)\u001b[0m\n\u001b[0;32m    584\u001b[0m     \u001b[0mkwds\u001b[0m\u001b[1;33m.\u001b[0m\u001b[0mupdate\u001b[0m\u001b[1;33m(\u001b[0m\u001b[0mkwds_defaults\u001b[0m\u001b[1;33m)\u001b[0m\u001b[1;33m\u001b[0m\u001b[1;33m\u001b[0m\u001b[0m\n\u001b[0;32m    585\u001b[0m \u001b[1;33m\u001b[0m\u001b[0m\n\u001b[1;32m--> 586\u001b[1;33m     \u001b[1;32mreturn\u001b[0m \u001b[0m_read\u001b[0m\u001b[1;33m(\u001b[0m\u001b[0mfilepath_or_buffer\u001b[0m\u001b[1;33m,\u001b[0m \u001b[0mkwds\u001b[0m\u001b[1;33m)\u001b[0m\u001b[1;33m\u001b[0m\u001b[1;33m\u001b[0m\u001b[0m\n\u001b[0m\u001b[0;32m    587\u001b[0m \u001b[1;33m\u001b[0m\u001b[0m\n\u001b[0;32m    588\u001b[0m \u001b[1;33m\u001b[0m\u001b[0m\n",
      "\u001b[1;32mc:\\users\\andbondstyle\\.virtualenvs\\.venv\\lab-cartpole\\lib\\site-packages\\pandas\\io\\parsers\\readers.py\u001b[0m in \u001b[0;36m_read\u001b[1;34m(filepath_or_buffer, kwds)\u001b[0m\n\u001b[0;32m    480\u001b[0m \u001b[1;33m\u001b[0m\u001b[0m\n\u001b[0;32m    481\u001b[0m     \u001b[1;31m# Create the parser.\u001b[0m\u001b[1;33m\u001b[0m\u001b[1;33m\u001b[0m\u001b[1;33m\u001b[0m\u001b[0m\n\u001b[1;32m--> 482\u001b[1;33m     \u001b[0mparser\u001b[0m \u001b[1;33m=\u001b[0m \u001b[0mTextFileReader\u001b[0m\u001b[1;33m(\u001b[0m\u001b[0mfilepath_or_buffer\u001b[0m\u001b[1;33m,\u001b[0m \u001b[1;33m**\u001b[0m\u001b[0mkwds\u001b[0m\u001b[1;33m)\u001b[0m\u001b[1;33m\u001b[0m\u001b[1;33m\u001b[0m\u001b[0m\n\u001b[0m\u001b[0;32m    483\u001b[0m \u001b[1;33m\u001b[0m\u001b[0m\n\u001b[0;32m    484\u001b[0m     \u001b[1;32mif\u001b[0m \u001b[0mchunksize\u001b[0m \u001b[1;32mor\u001b[0m \u001b[0miterator\u001b[0m\u001b[1;33m:\u001b[0m\u001b[1;33m\u001b[0m\u001b[1;33m\u001b[0m\u001b[0m\n",
      "\u001b[1;32mc:\\users\\andbondstyle\\.virtualenvs\\.venv\\lab-cartpole\\lib\\site-packages\\pandas\\io\\parsers\\readers.py\u001b[0m in \u001b[0;36m__init__\u001b[1;34m(self, f, engine, **kwds)\u001b[0m\n\u001b[0;32m    809\u001b[0m             \u001b[0mself\u001b[0m\u001b[1;33m.\u001b[0m\u001b[0moptions\u001b[0m\u001b[1;33m[\u001b[0m\u001b[1;34m\"has_index_names\"\u001b[0m\u001b[1;33m]\u001b[0m \u001b[1;33m=\u001b[0m \u001b[0mkwds\u001b[0m\u001b[1;33m[\u001b[0m\u001b[1;34m\"has_index_names\"\u001b[0m\u001b[1;33m]\u001b[0m\u001b[1;33m\u001b[0m\u001b[1;33m\u001b[0m\u001b[0m\n\u001b[0;32m    810\u001b[0m \u001b[1;33m\u001b[0m\u001b[0m\n\u001b[1;32m--> 811\u001b[1;33m         \u001b[0mself\u001b[0m\u001b[1;33m.\u001b[0m\u001b[0m_engine\u001b[0m \u001b[1;33m=\u001b[0m \u001b[0mself\u001b[0m\u001b[1;33m.\u001b[0m\u001b[0m_make_engine\u001b[0m\u001b[1;33m(\u001b[0m\u001b[0mself\u001b[0m\u001b[1;33m.\u001b[0m\u001b[0mengine\u001b[0m\u001b[1;33m)\u001b[0m\u001b[1;33m\u001b[0m\u001b[1;33m\u001b[0m\u001b[0m\n\u001b[0m\u001b[0;32m    812\u001b[0m \u001b[1;33m\u001b[0m\u001b[0m\n\u001b[0;32m    813\u001b[0m     \u001b[1;32mdef\u001b[0m \u001b[0mclose\u001b[0m\u001b[1;33m(\u001b[0m\u001b[0mself\u001b[0m\u001b[1;33m)\u001b[0m\u001b[1;33m:\u001b[0m\u001b[1;33m\u001b[0m\u001b[1;33m\u001b[0m\u001b[0m\n",
      "\u001b[1;32mc:\\users\\andbondstyle\\.virtualenvs\\.venv\\lab-cartpole\\lib\\site-packages\\pandas\\io\\parsers\\readers.py\u001b[0m in \u001b[0;36m_make_engine\u001b[1;34m(self, engine)\u001b[0m\n\u001b[0;32m   1038\u001b[0m             )\n\u001b[0;32m   1039\u001b[0m         \u001b[1;31m# error: Too many arguments for \"ParserBase\"\u001b[0m\u001b[1;33m\u001b[0m\u001b[1;33m\u001b[0m\u001b[1;33m\u001b[0m\u001b[0m\n\u001b[1;32m-> 1040\u001b[1;33m         \u001b[1;32mreturn\u001b[0m \u001b[0mmapping\u001b[0m\u001b[1;33m[\u001b[0m\u001b[0mengine\u001b[0m\u001b[1;33m]\u001b[0m\u001b[1;33m(\u001b[0m\u001b[0mself\u001b[0m\u001b[1;33m.\u001b[0m\u001b[0mf\u001b[0m\u001b[1;33m,\u001b[0m \u001b[1;33m**\u001b[0m\u001b[0mself\u001b[0m\u001b[1;33m.\u001b[0m\u001b[0moptions\u001b[0m\u001b[1;33m)\u001b[0m  \u001b[1;31m# type: ignore[call-arg]\u001b[0m\u001b[1;33m\u001b[0m\u001b[1;33m\u001b[0m\u001b[0m\n\u001b[0m\u001b[0;32m   1041\u001b[0m \u001b[1;33m\u001b[0m\u001b[0m\n\u001b[0;32m   1042\u001b[0m     \u001b[1;32mdef\u001b[0m \u001b[0m_failover_to_python\u001b[0m\u001b[1;33m(\u001b[0m\u001b[0mself\u001b[0m\u001b[1;33m)\u001b[0m\u001b[1;33m:\u001b[0m\u001b[1;33m\u001b[0m\u001b[1;33m\u001b[0m\u001b[0m\n",
      "\u001b[1;32mc:\\users\\andbondstyle\\.virtualenvs\\.venv\\lab-cartpole\\lib\\site-packages\\pandas\\io\\parsers\\c_parser_wrapper.py\u001b[0m in \u001b[0;36m__init__\u001b[1;34m(self, src, **kwds)\u001b[0m\n\u001b[0;32m     49\u001b[0m \u001b[1;33m\u001b[0m\u001b[0m\n\u001b[0;32m     50\u001b[0m         \u001b[1;31m# open handles\u001b[0m\u001b[1;33m\u001b[0m\u001b[1;33m\u001b[0m\u001b[1;33m\u001b[0m\u001b[0m\n\u001b[1;32m---> 51\u001b[1;33m         \u001b[0mself\u001b[0m\u001b[1;33m.\u001b[0m\u001b[0m_open_handles\u001b[0m\u001b[1;33m(\u001b[0m\u001b[0msrc\u001b[0m\u001b[1;33m,\u001b[0m \u001b[0mkwds\u001b[0m\u001b[1;33m)\u001b[0m\u001b[1;33m\u001b[0m\u001b[1;33m\u001b[0m\u001b[0m\n\u001b[0m\u001b[0;32m     52\u001b[0m         \u001b[1;32massert\u001b[0m \u001b[0mself\u001b[0m\u001b[1;33m.\u001b[0m\u001b[0mhandles\u001b[0m \u001b[1;32mis\u001b[0m \u001b[1;32mnot\u001b[0m \u001b[1;32mNone\u001b[0m\u001b[1;33m\u001b[0m\u001b[1;33m\u001b[0m\u001b[0m\n\u001b[0;32m     53\u001b[0m \u001b[1;33m\u001b[0m\u001b[0m\n",
      "\u001b[1;32mc:\\users\\andbondstyle\\.virtualenvs\\.venv\\lab-cartpole\\lib\\site-packages\\pandas\\io\\parsers\\base_parser.py\u001b[0m in \u001b[0;36m_open_handles\u001b[1;34m(self, src, kwds)\u001b[0m\n\u001b[0;32m    220\u001b[0m         \u001b[0mLet\u001b[0m \u001b[0mthe\u001b[0m \u001b[0mreaders\u001b[0m \u001b[0mopen\u001b[0m \u001b[0mIOHandles\u001b[0m \u001b[0mafter\u001b[0m \u001b[0mthey\u001b[0m \u001b[0mare\u001b[0m \u001b[0mdone\u001b[0m \u001b[1;32mwith\u001b[0m \u001b[0mtheir\u001b[0m \u001b[0mpotential\u001b[0m \u001b[0mraises\u001b[0m\u001b[1;33m.\u001b[0m\u001b[1;33m\u001b[0m\u001b[1;33m\u001b[0m\u001b[0m\n\u001b[0;32m    221\u001b[0m         \"\"\"\n\u001b[1;32m--> 222\u001b[1;33m         self.handles = get_handle(\n\u001b[0m\u001b[0;32m    223\u001b[0m             \u001b[0msrc\u001b[0m\u001b[1;33m,\u001b[0m\u001b[1;33m\u001b[0m\u001b[1;33m\u001b[0m\u001b[0m\n\u001b[0;32m    224\u001b[0m             \u001b[1;34m\"r\"\u001b[0m\u001b[1;33m,\u001b[0m\u001b[1;33m\u001b[0m\u001b[1;33m\u001b[0m\u001b[0m\n",
      "\u001b[1;32mc:\\users\\andbondstyle\\.virtualenvs\\.venv\\lab-cartpole\\lib\\site-packages\\pandas\\io\\common.py\u001b[0m in \u001b[0;36mget_handle\u001b[1;34m(path_or_buf, mode, encoding, compression, memory_map, is_text, errors, storage_options)\u001b[0m\n\u001b[0;32m    700\u001b[0m         \u001b[1;32mif\u001b[0m \u001b[0mioargs\u001b[0m\u001b[1;33m.\u001b[0m\u001b[0mencoding\u001b[0m \u001b[1;32mand\u001b[0m \u001b[1;34m\"b\"\u001b[0m \u001b[1;32mnot\u001b[0m \u001b[1;32min\u001b[0m \u001b[0mioargs\u001b[0m\u001b[1;33m.\u001b[0m\u001b[0mmode\u001b[0m\u001b[1;33m:\u001b[0m\u001b[1;33m\u001b[0m\u001b[1;33m\u001b[0m\u001b[0m\n\u001b[0;32m    701\u001b[0m             \u001b[1;31m# Encoding\u001b[0m\u001b[1;33m\u001b[0m\u001b[1;33m\u001b[0m\u001b[1;33m\u001b[0m\u001b[0m\n\u001b[1;32m--> 702\u001b[1;33m             handle = open(\n\u001b[0m\u001b[0;32m    703\u001b[0m                 \u001b[0mhandle\u001b[0m\u001b[1;33m,\u001b[0m\u001b[1;33m\u001b[0m\u001b[1;33m\u001b[0m\u001b[0m\n\u001b[0;32m    704\u001b[0m                 \u001b[0mioargs\u001b[0m\u001b[1;33m.\u001b[0m\u001b[0mmode\u001b[0m\u001b[1;33m,\u001b[0m\u001b[1;33m\u001b[0m\u001b[1;33m\u001b[0m\u001b[0m\n",
      "\u001b[1;31mFileNotFoundError\u001b[0m: [Errno 2] No such file or directory: 'data\\\\sessions\\\\pb_const_v5\\\\2_async_serial.csv'"
     ]
    }
   ],
   "source": [
    "serial_tx_data = pandas.read_csv(\n",
    "    PATH / '2_async_serial.csv',\n",
    "    header=0,\n",
    "    names=['time', 'value', 'parity_err', 'framing_err'],\n",
    ")\n",
    "serial_tx_data['time'] *= 1_000_000\n",
    "analyzer_offset = serial_tx_data.iloc[0]['time'] - 2_000_000\n",
    "serial_tx_data['time'] -= analyzer_offset\n",
    "print('Analyzer time offset:', analyzer_offset, 'us')\n",
    "serial_tx_data"
   ]
  },
  {
   "cell_type": "code",
   "execution_count": null,
   "id": "61f1aad2",
   "metadata": {},
   "outputs": [],
   "source": [
    "i2c_data = pandas.read_csv(\n",
    "    PATH / '3_i2c.csv',\n",
    "    header=0,\n",
    "    names=['time', 'packet_id', 'address', 'data', 'read_write', 'ack_nak'],\n",
    ")\n",
    "i2c_data['time'] = i2c_data['time'] * 1_000_000 - analyzer_offset\n",
    "i2c_data"
   ]
  },
  {
   "cell_type": "code",
   "execution_count": null,
   "id": "1d06587d",
   "metadata": {},
   "outputs": [],
   "source": [
    "enc_address = 0x36  # I2C encoder address\n",
    "msb_address = 0x0C  # Raw angle MSB register address\n",
    "lsb_address = 0x0D  # Raw angle LSB register address\n",
    "zero_angle = 2.9406 # Const from encoder constructor\n",
    "reverse = True      # ... from firmware\n",
    "\n",
    "def convert_raw_angle(raw_angle):\n",
    "    angle = raw_angle / 4096 * 2 * math.pi - zero_angle\n",
    "    if angle < 0: angle += 2 * math.pi\n",
    "    if reverse: angle = 2 * math.pi - angle\n",
    "    return angle\n",
    "\n",
    "curr_mode = 'write'\n",
    "curr_address = msb_address\n",
    "raw_angle = 0\n",
    "value_id ='analyzer.encoder_angle'\n",
    "hw_encoder_angle = DATA.values[value_id] = SessionData.Value(value_id, value_id, 'rad')\n",
    "for _, row in i2c_data.iterrows():\n",
    "    if row.time < 0: continue\n",
    "    address = int(row.address, 16)\n",
    "    data = int(row.data, 16)\n",
    "    mode = row.read_write.lower()\n",
    "    # print(hex(address), hex(data), mode)\n",
    "    if address >> 1 != enc_address:\n",
    "        print('!')\n",
    "        continue\n",
    "    if mode != curr_mode:\n",
    "        print('!')\n",
    "        continue\n",
    "        \n",
    "#     if abs(row.time - 7.212 * 1_000_000) < 0.05 * 1_000_000:\n",
    "#         print((row.time + analyzer_offset) / 1_000_000)\n",
    "#         print(curr_mode, hex(curr_address), bin(raw_angle), data == curr_address)\n",
    "    \n",
    "    # print(curr_mode, hex(curr_address), bin(raw_angle), data == curr_address)\n",
    "    if mode == 'write' and data == curr_address:\n",
    "        curr_mode = 'read'\n",
    "    elif mode == 'read' and curr_address == msb_address:\n",
    "        raw_angle = data << 8\n",
    "        curr_address = lsb_address\n",
    "        curr_mode = 'write'\n",
    "    elif mode == 'read' and curr_address == lsb_address:\n",
    "        raw_angle |= data\n",
    "        angle = convert_raw_angle(raw_angle)\n",
    "        hw_encoder_angle.x.append(int(row.time))\n",
    "        hw_encoder_angle.y.append(angle)\n",
    "        # print('*', bin(raw_angle), raw_angle, angle)\n",
    "        curr_address = msb_address\n",
    "        curr_mode = 'write'\n",
    "    else:\n",
    "        print('!')\n",
    "        \n",
    "    #if len(raw_angle_list) > 10: break\n",
    "\n",
    "print('Number of parsed values:', len(hw_encoder_angle.x))"
   ]
  },
  {
   "cell_type": "code",
   "execution_count": null,
   "id": "f3f5043d",
   "metadata": {},
   "outputs": [],
   "source": [
    "def convert_and_print(hex_value):\n",
    "    angle = convert_raw_angle(hex_value)\n",
    "    print(f'{angle:.5f} {hex_value:04x} {hex_value:016b} {hex_value}')\n",
    "    return angle\n",
    "\n",
    "for i in range(16):\n",
    "    mask = 1 << i\n",
    "    print('MASK:', bin(mask))\n",
    "    a = convert_and_print(0x0ff3)\n",
    "    convert_and_print(0x0f02)  # <-- anomaly\n",
    "    x = convert_and_print(0x0f02 ^ mask)  # <-- anomaly fix\n",
    "    b = convert_and_print(0x0023)\n",
    "    print(a >= x >= b)\n",
    "    print()\n",
    "    a = convert_and_print(0x00DE)\n",
    "    convert_and_print(0x0002)  # <-- anomaly\n",
    "    x = convert_and_print(0x0002 ^ mask)  # <-- anomaly fix\n",
    "    b = convert_and_print(0x0111)\n",
    "    print(a >= x >= b)\n",
    "    print()"
   ]
  },
  {
   "cell_type": "code",
   "execution_count": null,
   "id": "4672d4b6",
   "metadata": {},
   "outputs": [],
   "source": [
    "(5.32 - 5.68) / 2 / math.pi * 360"
   ]
  },
  {
   "cell_type": "code",
   "execution_count": 6,
   "id": "53c111ce",
   "metadata": {},
   "outputs": [],
   "source": [
    "abs_pole_angles = []\n",
    "rotations_arr = []\n",
    "rotations = 0\n",
    "prev = 0\n",
    "max_delta = math.pi\n",
    "for curr in DATA.values['state.pole_angle'].y:\n",
    "    delta = curr - prev\n",
    "    if delta > max_delta:\n",
    "        rotations -= 1\n",
    "    elif delta < -max_delta:\n",
    "        rotations += 1\n",
    "    abs_angle = 2 * math.pi * rotations + curr\n",
    "    abs_pole_angles.append(abs_angle)\n",
    "    rotations_arr.append(2 * math.pi * rotations)\n",
    "    prev = curr\n",
    "    \n",
    "id = 'abs_pole_angle'\n",
    "DATA.values[id] = SessionData.Value(id, id, 'rad', DATA.values['state.pole_angle'].x, abs_pole_angles)\n",
    "id = 'pole_rotations'\n",
    "DATA.values[id] = SessionData.Value(id, id, 'rad', DATA.values['state.pole_angle'].x, rotations_arr)"
   ]
  },
  {
   "cell_type": "code",
   "execution_count": 8,
   "id": "c51bbb75",
   "metadata": {},
   "outputs": [
    {
     "name": "stdout",
     "output_type": "stream",
     "text": [
      "IFrame URL: http://localhost:62678/?id=_\n"
     ]
    },
    {
     "data": {
      "text/html": [
       "\n",
       "        <iframe\n",
       "            width=\"\"\n",
       "            height=\"1000\"\n",
       "            src=\"http://localhost:62678/?id=_\"\n",
       "            frameborder=\"0\"\n",
       "            allowfullscreen\n",
       "            style=\"width: 100%\"\n",
       "        ></iframe>\n",
       "        "
      ],
      "text/plain": [
       "<IPython.lib.display.IFrame at 0x2a41968a910>"
      ]
     },
     "execution_count": 8,
     "metadata": {},
     "output_type": "execute_result"
    }
   ],
   "source": [
    "DATA.groups = [\n",
    "#     SessionData.Group(name='Position', values=['state.position']),\n",
    "#     SessionData.Group(name='Velocity', values=['state.velocity']),\n",
    "#     SessionData.Group(name='Acceleration', values=['state.acceleration', 'target.acceleration']),\n",
    "    SessionData.Group(name='Pole angle', values=['state.pole_angle']),\n",
    "    SessionData.Group(name='Absolute pole angle', values=['abs_pole_angle']),\n",
    "    SessionData.Group(name='Pole velocity', values=['state.pole_angular_velocity']),\n",
    "]\n",
    "session_widget(DATA)"
   ]
  },
  {
   "cell_type": "code",
   "execution_count": null,
   "id": "725dbcc3",
   "metadata": {},
   "outputs": [],
   "source": [
    "t1 = 6.721909\n",
    "a1 = 5.221629\n",
    "t2 = 6.728088\n",
    "a2 = 4.908697\n",
    "\n",
    "da = a2 - a1\n",
    "print('delta angle:', da)\n",
    "dt = t2 - t1\n",
    "print('delta time:', dt)\n",
    "if abs(da) > 1.8 * math.pi:\n",
    "    print('fixing rotation')\n",
    "    da -= (2 * math.pi) if da > 0 else (-2 * math.pi)\n",
    "print('delta angle out:', da)\n",
    "vel = da / dt\n",
    "print('velocity:', vel)\n",
    "if abs(vel) > 10 * 2 * math.pi:\n",
    "    print('spike!')\n",
    "print(5 * 2 * math.pi)"
   ]
  }
 ],
 "metadata": {
  "kernelspec": {
   "display_name": "Python 3 (ipykernel)",
   "language": "python",
   "name": "python3"
  },
  "language_info": {
   "codemirror_mode": {
    "name": "ipython",
    "version": 3
   },
   "file_extension": ".py",
   "mimetype": "text/x-python",
   "name": "python",
   "nbconvert_exporter": "python",
   "pygments_lexer": "ipython3",
   "version": "3.8.10"
  }
 },
 "nbformat": 4,
 "nbformat_minor": 5
}
