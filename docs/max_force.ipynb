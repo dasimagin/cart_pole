{
  "nbformat": 4,
  "nbformat_minor": 0,
  "metadata": {
    "colab": {
      "provenance": []
    },
    "kernelspec": {
      "name": "python3",
      "display_name": "Python 3"
    },
    "language_info": {
      "name": "python"
    }
  },
  "cells": [
    {
      "cell_type": "markdown",
      "source": [
        "# Derivation"
      ],
      "metadata": {
        "id": "0byFKOPEzILm"
      }
    },
    {
      "cell_type": "code",
      "execution_count": 1,
      "metadata": {
        "id": "NuJ3WCI-tsae"
      },
      "outputs": [],
      "source": [
        "import sympy as sp\n",
        "import numpy as np\n",
        "\n",
        "def norm(vec: sp.Matrix):\n",
        "    return vec.dot(vec)"
      ]
    },
    {
      "cell_type": "code",
      "source": [
        "t = sp.symbols('t')\n",
        "x = sp.Function('x')(t)\n",
        "y = sp.Function('y')(t)\n",
        "theta = sp.Function('theta')(t)\n",
        "l, m_p, m_c, I_p, g = sp.symbols('l, m_p, m_c, I_p, g')"
      ],
      "metadata": {
        "id": "ajL1ceFM6Ta7"
      },
      "execution_count": 2,
      "outputs": []
    },
    {
      "cell_type": "code",
      "source": [
        "sym_x = sp.symbols(r'x')\n",
        "sym_x_d = sp.symbols(r'\\dot{x}')\n",
        "sym_x_d2 = sp.symbols(r'\\ddot{x}')\n",
        "sym_y = sp.symbols(r'y')\n",
        "sym_y_d = sp.symbols(r'\\dot{y}')\n",
        "sym_y_d2 = sp.symbols(r'\\ddot{y}')\n",
        "sym_theta = sp.symbols(r'\\theta')\n",
        "sym_theta_d = sp.symbols(r'\\dot{\\theta}')\n",
        "sym_theta_d2 = sp.symbols(r'\\ddot{\\theta}')\n",
        "alias = {\n",
        "    x: sym_x,\n",
        "    x.diff(t): sym_x_d,\n",
        "    x.diff(t).diff(t): sym_x_d2,\n",
        "    y: sym_y,\n",
        "    y.diff(t): sym_y_d,\n",
        "    y.diff(t).diff(t): sym_y_d2,\n",
        "    theta: sym_theta,\n",
        "    theta.diff(t): sym_theta_d,\n",
        "    theta.diff(t).diff(t): sym_theta_d2,\n",
        "}"
      ],
      "metadata": {
        "id": "iH3TKgfqntKd"
      },
      "execution_count": 3,
      "outputs": []
    },
    {
      "cell_type": "code",
      "source": [
        "C = sp.Matrix([x, 0])\n",
        "C.subs(alias)"
      ],
      "metadata": {
        "colab": {
          "base_uri": "https://localhost:8080/",
          "height": 58
        },
        "id": "7RyTor1zEefe",
        "outputId": "29befcd7-176b-4bc1-e8e9-97130983f42e"
      },
      "execution_count": 4,
      "outputs": [
        {
          "output_type": "execute_result",
          "data": {
            "text/plain": [
              "Matrix([\n",
              "[x],\n",
              "[0]])"
            ],
            "text/latex": "$\\displaystyle \\left[\\begin{matrix}x\\\\0\\end{matrix}\\right]$"
          },
          "metadata": {},
          "execution_count": 4
        }
      ]
    },
    {
      "cell_type": "code",
      "source": [
        "P = sp.Matrix([x + l * sp.sin(theta), - l * sp.cos(theta)])\n",
        "P.subs(alias)"
      ],
      "metadata": {
        "colab": {
          "base_uri": "https://localhost:8080/",
          "height": 58
        },
        "id": "WlcltdkzEpxe",
        "outputId": "66feb0cc-1697-4210-eb94-df9c1464dfd0"
      },
      "execution_count": 5,
      "outputs": [
        {
          "output_type": "execute_result",
          "data": {
            "text/plain": [
              "Matrix([\n",
              "[l*sin(\\theta) + x],\n",
              "[   -l*cos(\\theta)]])"
            ],
            "text/latex": "$\\displaystyle \\left[\\begin{matrix}l \\sin{\\left(\\theta \\right)} + x\\\\- l \\cos{\\left(\\theta \\right)}\\end{matrix}\\right]$"
          },
          "metadata": {},
          "execution_count": 5
        }
      ]
    },
    {
      "cell_type": "code",
      "source": [
        "T_c = m_c * norm(C.diff(t)) / 2\n",
        "T_c.subs(alias)"
      ],
      "metadata": {
        "colab": {
          "base_uri": "https://localhost:8080/",
          "height": 54
        },
        "id": "F0aA_BTbfFEU",
        "outputId": "1ddc4fb4-787d-42e1-d475-5657071b29cf"
      },
      "execution_count": 6,
      "outputs": [
        {
          "output_type": "execute_result",
          "data": {
            "text/plain": [
              "\\dot{x}**2*m_c/2"
            ],
            "text/latex": "$\\displaystyle \\frac{\\dot{x}^{2} m_{c}}{2}$"
          },
          "metadata": {},
          "execution_count": 6
        }
      ]
    },
    {
      "cell_type": "code",
      "source": [
        "T_p = (m_p * norm(P.diff(t)) / 2 + I_p * (theta.diff(t)**2) / 2).simplify()\n",
        "T_p.subs(alias)"
      ],
      "metadata": {
        "colab": {
          "base_uri": "https://localhost:8080/",
          "height": 66
        },
        "id": "bJw1aQYogdz5",
        "outputId": "8eb6b0d0-ffd9-4bbf-fd1a-5da98371c120"
      },
      "execution_count": 7,
      "outputs": [
        {
          "output_type": "execute_result",
          "data": {
            "text/plain": [
              "I_p*\\dot{\\theta}**2/2 + m_p*(\\dot{\\theta}**2*l**2 + 2*\\dot{\\theta}*\\dot{x}*l*cos(\\theta) + \\dot{x}**2)/2"
            ],
            "text/latex": "$\\displaystyle \\frac{I_{p} \\dot{\\theta}^{2}}{2} + \\frac{m_{p} \\left(\\dot{\\theta}^{2} l^{2} + 2 \\dot{\\theta} \\dot{x} l \\cos{\\left(\\theta \\right)} + \\dot{x}^{2}\\right)}{2}$"
          },
          "metadata": {},
          "execution_count": 7
        }
      ]
    },
    {
      "cell_type": "code",
      "source": [
        "U_p = -m_p * g * l * sp.cos(theta)\n",
        "U_p.subs(alias)"
      ],
      "metadata": {
        "colab": {
          "base_uri": "https://localhost:8080/",
          "height": 39
        },
        "id": "f3eZ-ul2jTAj",
        "outputId": "461a54a1-a6f9-48b8-8e93-fb6b7a513429"
      },
      "execution_count": 8,
      "outputs": [
        {
          "output_type": "execute_result",
          "data": {
            "text/plain": [
              "-g*l*m_p*cos(\\theta)"
            ],
            "text/latex": "$\\displaystyle - g l m_{p} \\cos{\\left(\\theta \\right)}$"
          },
          "metadata": {},
          "execution_count": 8
        }
      ]
    },
    {
      "cell_type": "code",
      "source": [
        "L = (T_c + T_p - U_p).simplify()\n",
        "L.subs(alias)"
      ],
      "metadata": {
        "colab": {
          "base_uri": "https://localhost:8080/",
          "height": 66
        },
        "id": "Bvy47Mo2jb0h",
        "outputId": "cd940afc-e882-470d-8ec0-57f70d2e511b"
      },
      "execution_count": 9,
      "outputs": [
        {
          "output_type": "execute_result",
          "data": {
            "text/plain": [
              "I_p*\\dot{\\theta}**2/2 + \\dot{x}**2*m_c/2 + g*l*m_p*cos(\\theta) + m_p*(\\dot{\\theta}**2*l**2 + 2*\\dot{\\theta}*\\dot{x}*l*cos(\\theta) + \\dot{x}**2)/2"
            ],
            "text/latex": "$\\displaystyle \\frac{I_{p} \\dot{\\theta}^{2}}{2} + \\frac{\\dot{x}^{2} m_{c}}{2} + g l m_{p} \\cos{\\left(\\theta \\right)} + \\frac{m_{p} \\left(\\dot{\\theta}^{2} l^{2} + 2 \\dot{\\theta} \\dot{x} l \\cos{\\left(\\theta \\right)} + \\dot{x}^{2}\\right)}{2}$"
          },
          "metadata": {},
          "execution_count": 9
        }
      ]
    },
    {
      "cell_type": "code",
      "source": [
        "L_by_theta = (L.diff(theta.diff(t)).diff(t) - L.diff(theta)).simplify().subs(alias)\n",
        "L_by_theta"
      ],
      "metadata": {
        "colab": {
          "base_uri": "https://localhost:8080/",
          "height": 39
        },
        "id": "053gBSaHlVfH",
        "outputId": "d06508ea-822d-4706-b2e1-6b732067ea27"
      },
      "execution_count": 10,
      "outputs": [
        {
          "output_type": "execute_result",
          "data": {
            "text/plain": [
              "I_p*\\ddot{\\theta} + \\ddot{\\theta}*l**2*m_p + \\ddot{x}*l*m_p*cos(\\theta) + g*l*m_p*sin(\\theta)"
            ],
            "text/latex": "$\\displaystyle I_{p} \\ddot{\\theta} + \\ddot{\\theta} l^{2} m_{p} + \\ddot{x} l m_{p} \\cos{\\left(\\theta \\right)} + g l m_{p} \\sin{\\left(\\theta \\right)}$"
          },
          "metadata": {},
          "execution_count": 10
        }
      ]
    },
    {
      "cell_type": "code",
      "source": [
        "L_by_x = (L.diff(x.diff(t)).diff(t) - L.diff(x)).simplify().subs(alias)\n",
        "L_by_x"
      ],
      "metadata": {
        "colab": {
          "base_uri": "https://localhost:8080/",
          "height": 47
        },
        "id": "hoC51pZ4le3G",
        "outputId": "1c18abed-0b70-4a4b-9355-b4ed8077bbae"
      },
      "execution_count": 11,
      "outputs": [
        {
          "output_type": "execute_result",
          "data": {
            "text/plain": [
              "\\ddot{x}*m_c + m_p*(\\ddot{\\theta}*l*cos(\\theta) + \\ddot{x} - \\dot{\\theta}**2*l*sin(\\theta))"
            ],
            "text/latex": "$\\displaystyle \\ddot{x} m_{c} + m_{p} \\left(\\ddot{\\theta} l \\cos{\\left(\\theta \\right)} + \\ddot{x} - \\dot{\\theta}^{2} l \\sin{\\left(\\theta \\right)}\\right)$"
          },
          "metadata": {},
          "execution_count": 11
        }
      ]
    },
    {
      "cell_type": "code",
      "source": [
        "sym_theta_d2_by = sp.solve(L_by_theta, sym_theta_d2)[0]\n",
        "sym_theta_d2_by"
      ],
      "metadata": {
        "colab": {
          "base_uri": "https://localhost:8080/",
          "height": 58
        },
        "id": "LvcDT2_js74q",
        "outputId": "4768ca32-5f07-49fc-d4e1-b22871123780"
      },
      "execution_count": 12,
      "outputs": [
        {
          "output_type": "execute_result",
          "data": {
            "text/plain": [
              "-l*m_p*(\\ddot{x}*cos(\\theta) + g*sin(\\theta))/(I_p + l**2*m_p)"
            ],
            "text/latex": "$\\displaystyle - \\frac{l m_{p} \\left(\\ddot{x} \\cos{\\left(\\theta \\right)} + g \\sin{\\left(\\theta \\right)}\\right)}{I_{p} + l^{2} m_{p}}$"
          },
          "metadata": {},
          "execution_count": 12
        }
      ]
    },
    {
      "cell_type": "code",
      "source": [
        "dynamic_expression = L_by_x.subs({sym_theta_d2: sym_theta_d2_by})\n",
        "dynamic_expression"
      ],
      "metadata": {
        "colab": {
          "base_uri": "https://localhost:8080/",
          "height": 59
        },
        "id": "Ai8Bw7WupkTd",
        "outputId": "ba9a24b1-57ba-4f8a-d59c-201c460ffb97"
      },
      "execution_count": 13,
      "outputs": [
        {
          "output_type": "execute_result",
          "data": {
            "text/plain": [
              "\\ddot{x}*m_c + m_p*(\\ddot{x} - \\dot{\\theta}**2*l*sin(\\theta) - l**2*m_p*(\\ddot{x}*cos(\\theta) + g*sin(\\theta))*cos(\\theta)/(I_p + l**2*m_p))"
            ],
            "text/latex": "$\\displaystyle \\ddot{x} m_{c} + m_{p} \\left(\\ddot{x} - \\dot{\\theta}^{2} l \\sin{\\left(\\theta \\right)} - \\frac{l^{2} m_{p} \\left(\\ddot{x} \\cos{\\left(\\theta \\right)} + g \\sin{\\left(\\theta \\right)}\\right) \\cos{\\left(\\theta \\right)}}{I_{p} + l^{2} m_{p}}\\right)$"
          },
          "metadata": {},
          "execution_count": 13
        }
      ]
    },
    {
      "cell_type": "markdown",
      "source": [
        "# Сonsiderations about maximization"
      ],
      "metadata": {
        "id": "ewYBQkc-OjBg"
      }
    },
    {
      "cell_type": "markdown",
      "source": [
        "Let's transform the expression"
      ],
      "metadata": {
        "id": "5C8lHywzYvMp"
      }
    },
    {
      "cell_type": "code",
      "source": [
        "dynamic_expression.expand().collect(sym_x_d2*m_p).collect(sym_x_d2)"
      ],
      "metadata": {
        "colab": {
          "base_uri": "https://localhost:8080/",
          "height": 60
        },
        "id": "vOpXFH6dNrTQ",
        "outputId": "34c007f6-2199-4df0-b98c-ea400717704e"
      },
      "execution_count": 14,
      "outputs": [
        {
          "output_type": "execute_result",
          "data": {
            "text/plain": [
              "\\ddot{x}*(m_c + m_p*(-l**2*m_p*cos(\\theta)**2/(I_p + l**2*m_p) + 1)) - \\dot{\\theta}**2*l*m_p*sin(\\theta) - g*l**2*m_p**2*sin(\\theta)*cos(\\theta)/(I_p + l**2*m_p)"
            ],
            "text/latex": "$\\displaystyle \\ddot{x} \\left(m_{c} + m_{p} \\left(- \\frac{l^{2} m_{p} \\cos^{2}{\\left(\\theta \\right)}}{I_{p} + l^{2} m_{p}} + 1\\right)\\right) - \\dot{\\theta}^{2} l m_{p} \\sin{\\left(\\theta \\right)} - \\frac{g l^{2} m_{p}^{2} \\sin{\\left(\\theta \\right)} \\cos{\\left(\\theta \\right)}}{I_{p} + l^{2} m_{p}}$"
          },
          "metadata": {},
          "execution_count": 14
        }
      ]
    },
    {
      "cell_type": "markdown",
      "source": [
        "Note that the multiplier $\\ddot{x}$ is always positive. Further, without detracting from generality, we will assume that $\\ddot{x} > 0$. Note that replacing $\\theta \\to -\\theta'$ changes the sign of the last two terms, while replacing $\\theta \\to \\theta' + \\pi$ changes the sign of the second summand. This means that the maximum is reached in the quarter $[-\\frac{\\pi}{2}, 0]$, because the summands will have a plus sign. Then to maximize all sums, we also have to substitute the maximum $\\ddot{x}$ and $\\dot{\\theta}$."
      ],
      "metadata": {
        "id": "f0jQ4RdpZIKU"
      }
    },
    {
      "cell_type": "markdown",
      "source": [
        "# Function"
      ],
      "metadata": {
        "id": "yJCB8-Snz2c4"
      }
    },
    {
      "cell_type": "code",
      "source": [
        "def max_cart_linear_force(\n",
        "    *,\n",
        "    cart_mass,                      # kg\n",
        "    pendulum_mass,                  # kg\n",
        "    pendulum_moment_of_inertia,     # kg * m^2\n",
        "    distance_between_centers,       # m\n",
        "    max_pendulum_angular_velocity,  # rad / s\n",
        "    max_cart_acceleration,          # m / s^2\n",
        ") -> float:                         # N ((kg * m) / s^2)\n",
        "    ga = 9.8                        # earth gravitational acceleration\n",
        "    func_by_sym_theta = dynamic_expression.subs(\n",
        "        {   \n",
        "            g: ga,\n",
        "            m_c: cart_mass,\n",
        "            m_p: pendulum_mass,\n",
        "            I_p: pendulum_moment_of_inertia,\n",
        "            l: distance_between_centers,\n",
        "            sym_theta_d: max_pendulum_angular_velocity,\n",
        "            sym_x_d2: max_cart_acceleration,\n",
        "        }\n",
        "    )\n",
        "    optimized_func = sp.lambdify(sym_theta, func_by_sym_theta)\n",
        "    return max(optimized_func(np.linspace(0, 2*np.pi, 2000)))"
      ],
      "metadata": {
        "id": "k7cXHaPfz5O1"
      },
      "execution_count": 15,
      "outputs": []
    },
    {
      "cell_type": "code",
      "source": [
        "max_pendulum_angular_velocity = 3*(2*np.pi)\n",
        "max_cart_acceleration = 5\n",
        "\n",
        "cart_mass=0.1\n",
        "pendulum_mass=0.118\n",
        "pendulum_length=0.3\n",
        "\n",
        "pendulum_moment_of_inertia = (1/12) * pendulum_mass * pendulum_length**2\n",
        "distance_between_centers = pendulum_length / 2"
      ],
      "metadata": {
        "id": "CfT_R99XsdRC"
      },
      "execution_count": 16,
      "outputs": []
    },
    {
      "cell_type": "code",
      "source": [
        "# example\n",
        "max_cart_linear_force(\n",
        "    cart_mass=cart_mass,\n",
        "    pendulum_mass=pendulum_mass,\n",
        "    pendulum_moment_of_inertia=pendulum_moment_of_inertia,\n",
        "    distance_between_centers=distance_between_centers,\n",
        "    max_pendulum_angular_velocity=max_pendulum_angular_velocity,\n",
        "    max_cart_acceleration=max_cart_acceleration,\n",
        ")"
      ],
      "metadata": {
        "colab": {
          "base_uri": "https://localhost:8080/"
        },
        "id": "bmdCqIgJ_sMR",
        "outputId": "bc431c79-7314-42f1-d8e5-6ef61a3701c8"
      },
      "execution_count": 17,
      "outputs": [
        {
          "output_type": "execute_result",
          "data": {
            "text/plain": [
              "7.430438529490409"
            ]
          },
          "metadata": {},
          "execution_count": 17
        }
      ]
    }
  ]
}